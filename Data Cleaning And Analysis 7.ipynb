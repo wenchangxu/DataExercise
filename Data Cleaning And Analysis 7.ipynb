{
 "cells": [
  {
   "cell_type": "code",
   "execution_count": 490,
   "metadata": {},
   "outputs": [],
   "source": [
    "import pandas as pd\n",
    "import numpy as np\n",
    "import matplotlib.pyplot as plt\n",
    "\n",
    "%matplotlib inline"
   ]
  },
  {
   "cell_type": "code",
   "execution_count": 491,
   "metadata": {},
   "outputs": [],
   "source": [
    "rawData = pd.read_excel('Sample Dataset.xlsx', index_col=0)"
   ]
  },
  {
   "cell_type": "code",
   "execution_count": 492,
   "metadata": {},
   "outputs": [
    {
     "data": {
      "text/html": [
       "<div>\n",
       "<style scoped>\n",
       "    .dataframe tbody tr th:only-of-type {\n",
       "        vertical-align: middle;\n",
       "    }\n",
       "\n",
       "    .dataframe tbody tr th {\n",
       "        vertical-align: top;\n",
       "    }\n",
       "\n",
       "    .dataframe thead th {\n",
       "        text-align: right;\n",
       "    }\n",
       "</style>\n",
       "<table border=\"1\" class=\"dataframe\">\n",
       "  <thead>\n",
       "    <tr style=\"text-align: right;\">\n",
       "      <th></th>\n",
       "      <th>Signal</th>\n",
       "      <th>Open</th>\n",
       "      <th>High</th>\n",
       "      <th>Low</th>\n",
       "      <th>Close</th>\n",
       "      <th>Adj Close</th>\n",
       "    </tr>\n",
       "    <tr>\n",
       "      <th>Date</th>\n",
       "      <th></th>\n",
       "      <th></th>\n",
       "      <th></th>\n",
       "      <th></th>\n",
       "      <th></th>\n",
       "      <th></th>\n",
       "    </tr>\n",
       "  </thead>\n",
       "  <tbody>\n",
       "    <tr>\n",
       "      <th>2015-11-19</th>\n",
       "      <td>13.768540</td>\n",
       "      <td>116.440002</td>\n",
       "      <td>116.650002</td>\n",
       "      <td>115.739998</td>\n",
       "      <td>116.059998</td>\n",
       "      <td>108.281601</td>\n",
       "    </tr>\n",
       "    <tr>\n",
       "      <th>2015-11-20</th>\n",
       "      <td>13.608819</td>\n",
       "      <td>116.480003</td>\n",
       "      <td>117.360001</td>\n",
       "      <td>116.379997</td>\n",
       "      <td>116.809998</td>\n",
       "      <td>108.981323</td>\n",
       "    </tr>\n",
       "    <tr>\n",
       "      <th>2015-11-23</th>\n",
       "      <td>12.990589</td>\n",
       "      <td>116.709999</td>\n",
       "      <td>117.889999</td>\n",
       "      <td>116.680000</td>\n",
       "      <td>117.389999</td>\n",
       "      <td>109.522453</td>\n",
       "    </tr>\n",
       "    <tr>\n",
       "      <th>2015-11-24</th>\n",
       "      <td>12.667435</td>\n",
       "      <td>116.879997</td>\n",
       "      <td>118.419998</td>\n",
       "      <td>116.559998</td>\n",
       "      <td>118.250000</td>\n",
       "      <td>110.324837</td>\n",
       "    </tr>\n",
       "    <tr>\n",
       "      <th>2015-11-25</th>\n",
       "      <td>13.019910</td>\n",
       "      <td>118.300003</td>\n",
       "      <td>119.320000</td>\n",
       "      <td>118.110001</td>\n",
       "      <td>119.169998</td>\n",
       "      <td>111.183159</td>\n",
       "    </tr>\n",
       "  </tbody>\n",
       "</table>\n",
       "</div>"
      ],
      "text/plain": [
       "               Signal        Open        High         Low       Close  \\\n",
       "Date                                                                    \n",
       "2015-11-19  13.768540  116.440002  116.650002  115.739998  116.059998   \n",
       "2015-11-20  13.608819  116.480003  117.360001  116.379997  116.809998   \n",
       "2015-11-23  12.990589  116.709999  117.889999  116.680000  117.389999   \n",
       "2015-11-24  12.667435  116.879997  118.419998  116.559998  118.250000   \n",
       "2015-11-25  13.019910  118.300003  119.320000  118.110001  119.169998   \n",
       "\n",
       "             Adj Close  \n",
       "Date                    \n",
       "2015-11-19  108.281601  \n",
       "2015-11-20  108.981323  \n",
       "2015-11-23  109.522453  \n",
       "2015-11-24  110.324837  \n",
       "2015-11-25  111.183159  "
      ]
     },
     "execution_count": 492,
     "metadata": {},
     "output_type": "execute_result"
    }
   ],
   "source": [
    "# get some sense what the data look like\n",
    "rawData.head()"
   ]
  },
  {
   "cell_type": "code",
   "execution_count": 493,
   "metadata": {},
   "outputs": [
    {
     "data": {
      "text/html": [
       "<div>\n",
       "<style scoped>\n",
       "    .dataframe tbody tr th:only-of-type {\n",
       "        vertical-align: middle;\n",
       "    }\n",
       "\n",
       "    .dataframe tbody tr th {\n",
       "        vertical-align: top;\n",
       "    }\n",
       "\n",
       "    .dataframe thead th {\n",
       "        text-align: right;\n",
       "    }\n",
       "</style>\n",
       "<table border=\"1\" class=\"dataframe\">\n",
       "  <thead>\n",
       "    <tr style=\"text-align: right;\">\n",
       "      <th></th>\n",
       "      <th>Signal</th>\n",
       "      <th>Open</th>\n",
       "      <th>High</th>\n",
       "      <th>Low</th>\n",
       "      <th>Close</th>\n",
       "      <th>Adj Close</th>\n",
       "    </tr>\n",
       "  </thead>\n",
       "  <tbody>\n",
       "    <tr>\n",
       "      <th>count</th>\n",
       "      <td>1038.000000</td>\n",
       "      <td>1038.000000</td>\n",
       "      <td>1038.000000</td>\n",
       "      <td>1038.000000</td>\n",
       "      <td>1038.000000</td>\n",
       "      <td>1038.000000</td>\n",
       "    </tr>\n",
       "    <tr>\n",
       "      <th>mean</th>\n",
       "      <td>16.766190</td>\n",
       "      <td>141.847360</td>\n",
       "      <td>142.691801</td>\n",
       "      <td>140.907746</td>\n",
       "      <td>141.840973</td>\n",
       "      <td>136.341060</td>\n",
       "    </tr>\n",
       "    <tr>\n",
       "      <th>std</th>\n",
       "      <td>3.095783</td>\n",
       "      <td>18.475574</td>\n",
       "      <td>18.470255</td>\n",
       "      <td>18.404504</td>\n",
       "      <td>18.497010</td>\n",
       "      <td>21.427837</td>\n",
       "    </tr>\n",
       "    <tr>\n",
       "      <th>min</th>\n",
       "      <td>0.000000</td>\n",
       "      <td>94.080002</td>\n",
       "      <td>95.400002</td>\n",
       "      <td>93.639999</td>\n",
       "      <td>94.790001</td>\n",
       "      <td>-152.277847</td>\n",
       "    </tr>\n",
       "    <tr>\n",
       "      <th>25%</th>\n",
       "      <td>14.691150</td>\n",
       "      <td>132.132496</td>\n",
       "      <td>132.912495</td>\n",
       "      <td>130.542503</td>\n",
       "      <td>131.824993</td>\n",
       "      <td>125.290491</td>\n",
       "    </tr>\n",
       "    <tr>\n",
       "      <th>50%</th>\n",
       "      <td>17.298240</td>\n",
       "      <td>146.769997</td>\n",
       "      <td>147.959999</td>\n",
       "      <td>145.634995</td>\n",
       "      <td>146.885002</td>\n",
       "      <td>142.667732</td>\n",
       "    </tr>\n",
       "    <tr>\n",
       "      <th>75%</th>\n",
       "      <td>19.030890</td>\n",
       "      <td>155.367496</td>\n",
       "      <td>156.287495</td>\n",
       "      <td>154.422500</td>\n",
       "      <td>155.289993</td>\n",
       "      <td>151.798325</td>\n",
       "    </tr>\n",
       "    <tr>\n",
       "      <th>max</th>\n",
       "      <td>35.434147</td>\n",
       "      <td>172.789993</td>\n",
       "      <td>173.389999</td>\n",
       "      <td>171.949997</td>\n",
       "      <td>196.279999</td>\n",
       "      <td>168.842270</td>\n",
       "    </tr>\n",
       "  </tbody>\n",
       "</table>\n",
       "</div>"
      ],
      "text/plain": [
       "            Signal         Open         High          Low        Close  \\\n",
       "count  1038.000000  1038.000000  1038.000000  1038.000000  1038.000000   \n",
       "mean     16.766190   141.847360   142.691801   140.907746   141.840973   \n",
       "std       3.095783    18.475574    18.470255    18.404504    18.497010   \n",
       "min       0.000000    94.080002    95.400002    93.639999    94.790001   \n",
       "25%      14.691150   132.132496   132.912495   130.542503   131.824993   \n",
       "50%      17.298240   146.769997   147.959999   145.634995   146.885002   \n",
       "75%      19.030890   155.367496   156.287495   154.422500   155.289993   \n",
       "max      35.434147   172.789993   173.389999   171.949997   196.279999   \n",
       "\n",
       "         Adj Close  \n",
       "count  1038.000000  \n",
       "mean    136.341060  \n",
       "std      21.427837  \n",
       "min    -152.277847  \n",
       "25%     125.290491  \n",
       "50%     142.667732  \n",
       "75%     151.798325  \n",
       "max     168.842270  "
      ]
     },
     "execution_count": 493,
     "metadata": {},
     "output_type": "execute_result"
    }
   ],
   "source": [
    "# from this summary, it seems no missing data. \n",
    "# but from the percentiles/min/max, we seem some potential error: 1) 0 value in the Singal; 2) negative value in the ETF Adj Close price. \n",
    "rawData.describe()"
   ]
  },
  {
   "cell_type": "code",
   "execution_count": 494,
   "metadata": {},
   "outputs": [
    {
     "data": {
      "text/plain": [
       "<matplotlib.axes._subplots.AxesSubplot at 0x2eadaf16988>"
      ]
     },
     "execution_count": 494,
     "metadata": {},
     "output_type": "execute_result"
    },
    {
     "data": {
      "image/png": "[encoded data removed]",
      "text/plain": [
       "<Figure size 432x288 with 1 Axes>"
      ]
     },
     "metadata": {
      "needs_background": "light"
     },
     "output_type": "display_data"
    }
   ],
   "source": [
    "# it is more obvious to see those outliers in the plots.\n",
    "neededCols = ['Signal', 'Adj Close']\n",
    "orignalColumns = rawData.columns\n",
    "rawData.loc[:, neededCols].plot()"
   ]
  },
  {
   "cell_type": "code",
   "execution_count": 495,
   "metadata": {},
   "outputs": [],
   "source": [
    "def zscore(ts, avg=None, std=None):\n",
    "    if avg:\n",
    "        return (ts-avg)/std\n",
    "    else:\n",
    "        return (ts-np.mean(ts))/np.std(ts)\n",
    "\n",
    "def dataFilter(df, columns, threshold=5):\n",
    "    stats = df.describe()\n",
    "    condition = None\n",
    "    for col in columns:\n",
    "        oneFilter = abs(zscore(df.loc[:, col]))>=threshold\n",
    "        if condition is None:\n",
    "            condition = oneFilter\n",
    "        else:\n",
    "            condition |= oneFilter\n",
    "    return condition"
   ]
  },
  {
   "cell_type": "code",
   "execution_count": 496,
   "metadata": {},
   "outputs": [
    {
     "name": "stdout",
     "output_type": "stream",
     "text": [
      "               Signal        Open        High         Low       Close  \\\n",
      "Date                                                                    \n",
      "2017-11-13  35.434147  145.929993  146.820007  145.500000  146.610001   \n",
      "2018-10-10  19.719477  160.820007  160.990005  156.360001  156.559998   \n",
      "2019-12-27   0.000000  167.119995  167.119995  165.429993  165.860001   \n",
      "2019-12-30   0.000000  165.979996  166.210007  164.570007  165.440002   \n",
      "2019-12-31   0.000000  165.080002  166.350006  164.710007  165.669998   \n",
      "2020-01-02   0.000000  166.740005  166.750000  164.229996  165.779999   \n",
      "2020-01-03   0.000000  163.740005  165.410004  163.699997  165.130005   \n",
      "2020-01-06   0.000000  163.850006  165.539993  163.539993  165.350006   \n",
      "\n",
      "             Adj Close  Outlier  \n",
      "Date                             \n",
      "2017-11-13  140.849274        1  \n",
      "2018-10-10 -152.277847        1  \n",
      "2019-12-27  164.039063        1  \n",
      "2019-12-30  163.623688        1  \n",
      "2019-12-31  163.851135        1  \n",
      "2020-01-02  163.959946        1  \n",
      "2020-01-03  163.317093        1  \n",
      "2020-01-06  163.534668        1  \n"
     ]
    },
    {
     "name": "stderr",
     "output_type": "stream",
     "text": [
      "C:\\Users\\toxuc\\anaconda3\\lib\\site-packages\\pandas\\core\\indexing.py:965: SettingWithCopyWarning: \n",
      "A value is trying to be set on a copy of a slice from a DataFrame.\n",
      "Try using .loc[row_indexer,col_indexer] = value instead\n",
      "\n",
      "See the caveats in the documentation: https://pandas.pydata.org/pandas-docs/stable/user_guide/indexing.html#returning-a-view-versus-a-copy\n",
      "  self.obj[item] = s\n"
     ]
    },
    {
     "data": {
      "text/html": [
       "<div>\n",
       "<style scoped>\n",
       "    .dataframe tbody tr th:only-of-type {\n",
       "        vertical-align: middle;\n",
       "    }\n",
       "\n",
       "    .dataframe tbody tr th {\n",
       "        vertical-align: top;\n",
       "    }\n",
       "\n",
       "    .dataframe thead th {\n",
       "        text-align: right;\n",
       "    }\n",
       "</style>\n",
       "<table border=\"1\" class=\"dataframe\">\n",
       "  <thead>\n",
       "    <tr style=\"text-align: right;\">\n",
       "      <th></th>\n",
       "      <th>Signal</th>\n",
       "      <th>Open</th>\n",
       "      <th>High</th>\n",
       "      <th>Low</th>\n",
       "      <th>Close</th>\n",
       "      <th>Adj Close</th>\n",
       "      <th>Outlier</th>\n",
       "    </tr>\n",
       "    <tr>\n",
       "      <th>Date</th>\n",
       "      <th></th>\n",
       "      <th></th>\n",
       "      <th></th>\n",
       "      <th></th>\n",
       "      <th></th>\n",
       "      <th></th>\n",
       "      <th></th>\n",
       "    </tr>\n",
       "  </thead>\n",
       "  <tbody>\n",
       "    <tr>\n",
       "      <th>2017-11-13</th>\n",
       "      <td>17.628384</td>\n",
       "      <td>145.929993</td>\n",
       "      <td>146.820007</td>\n",
       "      <td>145.500000</td>\n",
       "      <td>146.610001</td>\n",
       "      <td>140.849274</td>\n",
       "      <td>0</td>\n",
       "    </tr>\n",
       "    <tr>\n",
       "      <th>2018-10-10</th>\n",
       "      <td>19.719477</td>\n",
       "      <td>160.820007</td>\n",
       "      <td>160.990005</td>\n",
       "      <td>156.360001</td>\n",
       "      <td>156.559998</td>\n",
       "      <td>152.277847</td>\n",
       "      <td>0</td>\n",
       "    </tr>\n",
       "  </tbody>\n",
       "</table>\n",
       "</div>"
      ],
      "text/plain": [
       "               Signal        Open        High         Low       Close  \\\n",
       "Date                                                                    \n",
       "2017-11-13  17.628384  145.929993  146.820007  145.500000  146.610001   \n",
       "2018-10-10  19.719477  160.820007  160.990005  156.360001  156.559998   \n",
       "\n",
       "             Adj Close  Outlier  \n",
       "Date                             \n",
       "2017-11-13  140.849274        0  \n",
       "2018-10-10  152.277847        0  "
      ]
     },
     "execution_count": 496,
     "metadata": {},
     "output_type": "execute_result"
    }
   ],
   "source": [
    "# a z-score of 5 or larger is associated with very rare event. so we can almost be sure that it is caused by error with current ~1000 \n",
    "# data points. \n",
    "filterCondition1 = dataFilter(rawData, neededCols, 5)\n",
    "rawData['Outlier'] = 0\n",
    "rawData.loc[filterCondition1, 'Outlier'] = 1\n",
    "print(rawData.loc[rawData['Outlier']==1,:])\n",
    "# As we can see those outliers are all with zscore larger than 5. For 'Signal' column, there are a series of 0s, that should be errors.\n",
    "# The signal has 6 zeros in the end. I do not have good ways to correct. So removal might be OK. The first outlier is too large, so I \n",
    "# can correct it by fill forward with previous day's value. \n",
    "# The one with Adj Close is interesting: the negative sign must be put by mistake. If I remove it, I end up with same return as the \n",
    "# 'close' column. So I will just put the absolute value there. \n",
    "# These 3 treatment will be performed one by one. \n",
    "outlierDates = rawData.loc[rawData['Outlier']==1,:].index\n",
    "firstOutlierDate = outlierDates[0]\n",
    "secondOutlierDate = outlierDates[1]\n",
    "rawData.loc[firstOutlierDate, 'Outlier'] = 0 # to keep and correct\n",
    "rawData.loc[secondOutlierDate, 'Outlier'] = 0 # to keep and correct\n",
    "cleanedData = rawData.loc[rawData['Outlier']==0,:]\n",
    "firstIndex = list(rawData.index).index(firstOutlierDate)\n",
    "firstOutlierPrevDate = rawData.index[firstIndex-1]\n",
    "cleanedData.loc[firstOutlierDate,'Signal'] = cleanedData.loc[firstOutlierPrevDate,'Signal']\n",
    "cleanedData.loc[secondOutlierDate,'Adj Close'] = abs(cleanedData.loc[secondOutlierDate,'Adj Close'])\n",
    "cleanedData.loc[outlierDates[:2],:] # verify it is corrected "
   ]
  },
  {
   "cell_type": "code",
   "execution_count": 497,
   "metadata": {},
   "outputs": [
    {
     "data": {
      "text/plain": [
       "<matplotlib.axes._subplots.AxesSubplot at 0x2eadad09bc8>"
      ]
     },
     "execution_count": 497,
     "metadata": {},
     "output_type": "execute_result"
    },
    {
     "data": {
      "image/png": "[encoded data removed]",
      "text/plain": [
       "<Figure size 432x288 with 1 Axes>"
      ]
     },
     "metadata": {
      "needs_background": "light"
     },
     "output_type": "display_data"
    }
   ],
   "source": [
    "# after initial cleaning of the raw data, we can see from the plot below that some obviously wrong data got removed. \n",
    "# but still there are some jumps. \n",
    "cleanedData.loc[:, neededCols].plot()"
   ]
  },
  {
   "cell_type": "code",
   "execution_count": 498,
   "metadata": {},
   "outputs": [
    {
     "data": {
      "text/html": [
       "<div>\n",
       "<style scoped>\n",
       "    .dataframe tbody tr th:only-of-type {\n",
       "        vertical-align: middle;\n",
       "    }\n",
       "\n",
       "    .dataframe tbody tr th {\n",
       "        vertical-align: top;\n",
       "    }\n",
       "\n",
       "    .dataframe thead th {\n",
       "        text-align: right;\n",
       "    }\n",
       "</style>\n",
       "<table border=\"1\" class=\"dataframe\">\n",
       "  <thead>\n",
       "    <tr style=\"text-align: right;\">\n",
       "      <th></th>\n",
       "      <th>Signal</th>\n",
       "      <th>Open</th>\n",
       "      <th>High</th>\n",
       "      <th>Low</th>\n",
       "      <th>Close</th>\n",
       "      <th>Adj Close</th>\n",
       "    </tr>\n",
       "  </thead>\n",
       "  <tbody>\n",
       "    <tr>\n",
       "      <th>count</th>\n",
       "      <td>1031.000000</td>\n",
       "      <td>1031.000000</td>\n",
       "      <td>1031.000000</td>\n",
       "      <td>1031.000000</td>\n",
       "      <td>1031.000000</td>\n",
       "      <td>1031.000000</td>\n",
       "    </tr>\n",
       "    <tr>\n",
       "      <th>mean</th>\n",
       "      <td>0.001774</td>\n",
       "      <td>0.000401</td>\n",
       "      <td>0.000385</td>\n",
       "      <td>0.000400</td>\n",
       "      <td>0.000453</td>\n",
       "      <td>0.000579</td>\n",
       "    </tr>\n",
       "    <tr>\n",
       "      <th>std</th>\n",
       "      <td>0.053528</td>\n",
       "      <td>0.010179</td>\n",
       "      <td>0.008592</td>\n",
       "      <td>0.009823</td>\n",
       "      <td>0.014309</td>\n",
       "      <td>0.018880</td>\n",
       "    </tr>\n",
       "    <tr>\n",
       "      <th>min</th>\n",
       "      <td>-0.330036</td>\n",
       "      <td>-0.053984</td>\n",
       "      <td>-0.045611</td>\n",
       "      <td>-0.036805</td>\n",
       "      <td>-0.203994</td>\n",
       "      <td>-0.232498</td>\n",
       "    </tr>\n",
       "    <tr>\n",
       "      <th>25%</th>\n",
       "      <td>-0.031339</td>\n",
       "      <td>-0.004921</td>\n",
       "      <td>-0.004237</td>\n",
       "      <td>-0.004579</td>\n",
       "      <td>-0.004808</td>\n",
       "      <td>-0.004859</td>\n",
       "    </tr>\n",
       "    <tr>\n",
       "      <th>50%</th>\n",
       "      <td>0.000641</td>\n",
       "      <td>0.000891</td>\n",
       "      <td>0.000551</td>\n",
       "      <td>0.000763</td>\n",
       "      <td>0.000913</td>\n",
       "      <td>0.000925</td>\n",
       "    </tr>\n",
       "    <tr>\n",
       "      <th>75%</th>\n",
       "      <td>0.033920</td>\n",
       "      <td>0.006164</td>\n",
       "      <td>0.005452</td>\n",
       "      <td>0.006264</td>\n",
       "      <td>0.006453</td>\n",
       "      <td>0.006508</td>\n",
       "    </tr>\n",
       "    <tr>\n",
       "      <th>max</th>\n",
       "      <td>0.473045</td>\n",
       "      <td>0.052337</td>\n",
       "      <td>0.028256</td>\n",
       "      <td>0.038712</td>\n",
       "      <td>0.243853</td>\n",
       "      <td>0.339658</td>\n",
       "    </tr>\n",
       "  </tbody>\n",
       "</table>\n",
       "</div>"
      ],
      "text/plain": [
       "            Signal         Open         High          Low        Close  \\\n",
       "count  1031.000000  1031.000000  1031.000000  1031.000000  1031.000000   \n",
       "mean      0.001774     0.000401     0.000385     0.000400     0.000453   \n",
       "std       0.053528     0.010179     0.008592     0.009823     0.014309   \n",
       "min      -0.330036    -0.053984    -0.045611    -0.036805    -0.203994   \n",
       "25%      -0.031339    -0.004921    -0.004237    -0.004579    -0.004808   \n",
       "50%       0.000641     0.000891     0.000551     0.000763     0.000913   \n",
       "75%       0.033920     0.006164     0.005452     0.006264     0.006453   \n",
       "max       0.473045     0.052337     0.028256     0.038712     0.243853   \n",
       "\n",
       "         Adj Close  \n",
       "count  1031.000000  \n",
       "mean      0.000579  \n",
       "std       0.018880  \n",
       "min      -0.232498  \n",
       "25%      -0.004859  \n",
       "50%       0.000925  \n",
       "75%       0.006508  \n",
       "max       0.339658  "
      ]
     },
     "execution_count": 498,
     "metadata": {},
     "output_type": "execute_result"
    }
   ],
   "source": [
    "# after initial filtering, there seems still some outliers in the data\n",
    "# using return data may be able to get rid of those outliers.\n",
    "rets = cleanedData.drop(['Outlier'], axis=1).pct_change()\n",
    "rets.describe()\n",
    "# These daily return values show that both signal and adj close have a close to 0 average return. However, the signal is much more \n",
    "# volatile than the ETF, with a std of 5% vs.ETF's 2%. Looking at the min and max values, there are more than 5 std away from the mean.\n",
    "# I shall apply similar rule to remove those records with abnormally high or low returns. Those look like data errors to me."
   ]
  },
  {
   "cell_type": "code",
   "execution_count": 499,
   "metadata": {},
   "outputs": [
    {
     "name": "stdout",
     "output_type": "stream",
     "text": [
      "              Signal      Open      High       Low     Close  Adj Close\n",
      "Date                                                                   \n",
      "2016-07-13  0.473045  0.011176 -0.000249  0.001010 -0.003926  -0.003926\n",
      "2016-07-14 -0.330036 -0.000249 -0.000249  0.002942  0.001006   0.001006\n",
      "2016-11-30  0.352664  0.003094  0.000000 -0.004542 -0.004915  -0.004915\n",
      "2016-12-05  0.068105  0.007866  0.014148  0.010496  0.017189   0.339658\n",
      "2016-12-06 -0.007867  0.011745  0.011850  0.006445  0.010815  -0.232498\n",
      "2017-03-22  0.300647 -0.034654 -0.030952 -0.008513  0.000224   0.000224\n",
      "2017-03-27  0.059497 -0.016228 -0.002953 -0.010907  0.001859   0.235615\n",
      "2017-03-28  0.011422  0.011449  0.006145  0.013142  0.007793  -0.182863\n",
      "2018-10-09  0.282660 -0.000927  0.002094  0.002678 -0.003893  -0.003893\n",
      "               Signal        Open        High         Low       Close  \\\n",
      "Date                                                                    \n",
      "2016-07-13  20.395083  120.330002  120.389999  118.949997  119.250000   \n",
      "2016-07-14  13.663968  120.300003  120.360001  119.300003  119.370003   \n",
      "2016-11-30  20.738650  132.919998  133.089996  131.500000  131.610001   \n",
      "2016-12-05  16.011011  131.970001  133.330002  131.889999  133.149994   \n",
      "2016-12-06  15.885051  133.520004  134.910004  132.740005  134.589996   \n",
      "2017-03-22  19.029316  133.710007  134.309998  132.779999  134.000000   \n",
      "2017-03-27  16.032241  132.759995  135.070007  132.399994  134.740005   \n",
      "2017-03-28  16.215369  134.279999  135.899994  134.139999  135.789993   \n",
      "2018-10-09  26.124873  161.619995  162.740005  160.979996  161.190002   \n",
      "\n",
      "             Adj Close  Outlier  Signal_zscore  Adj Close_zscore  \n",
      "Date                                                              \n",
      "2016-07-13  112.691780        1       1.282809         -1.225769  \n",
      "2016-07-14  112.805161        1      -1.150422         -1.219925  \n",
      "2016-11-30  124.715752        1       1.407005         -0.606114  \n",
      "2016-12-05  166.175079        1      -0.301990          1.530489  \n",
      "2016-12-06  127.539658        1      -0.347523         -0.460584  \n",
      "2017-03-22  127.504295        1       0.789098         -0.462407  \n",
      "2017-03-27  158.577637        1      -0.294315          1.138955  \n",
      "2017-03-28  129.579605        1      -0.228116         -0.355456  \n",
      "2018-10-09  156.781219        1       3.354071          1.046377  \n"
     ]
    },
    {
     "name": "stderr",
     "output_type": "stream",
     "text": [
      "C:\\Users\\toxuc\\anaconda3\\lib\\site-packages\\pandas\\core\\indexing.py:965: SettingWithCopyWarning: \n",
      "A value is trying to be set on a copy of a slice from a DataFrame.\n",
      "Try using .loc[row_indexer,col_indexer] = value instead\n",
      "\n",
      "See the caveats in the documentation: https://pandas.pydata.org/pandas-docs/stable/user_guide/indexing.html#returning-a-view-versus-a-copy\n",
      "  self.obj[item] = s\n",
      "C:\\Users\\toxuc\\anaconda3\\lib\\site-packages\\ipykernel_launcher.py:3: SettingWithCopyWarning: \n",
      "A value is trying to be set on a copy of a slice from a DataFrame.\n",
      "Try using .loc[row_indexer,col_indexer] = value instead\n",
      "\n",
      "See the caveats in the documentation: https://pandas.pydata.org/pandas-docs/stable/user_guide/indexing.html#returning-a-view-versus-a-copy\n",
      "  This is separate from the ipykernel package so we can avoid doing imports until\n",
      "C:\\Users\\toxuc\\anaconda3\\lib\\site-packages\\ipykernel_launcher.py:4: SettingWithCopyWarning: \n",
      "A value is trying to be set on a copy of a slice from a DataFrame.\n",
      "Try using .loc[row_indexer,col_indexer] = value instead\n",
      "\n",
      "See the caveats in the documentation: https://pandas.pydata.org/pandas-docs/stable/user_guide/indexing.html#returning-a-view-versus-a-copy\n",
      "  after removing the cwd from sys.path.\n"
     ]
    }
   ],
   "source": [
    "retFilter = dataFilter(rets, neededCols, 5)\n",
    "cleanedData.loc[retFilter, 'Outlier'] = 1\n",
    "cleanedData['Signal_zscore'] = zscore(cleanedData['Signal'])\n",
    "cleanedData['Adj Close_zscore'] = zscore(cleanedData['Adj Close'])\n",
    "print(rets.loc[retFilter])\n",
    "# We can see there are abnormal returns either for signal, or for ETF prices.One interesting observation is that the abnormal returns \n",
    "# usually come in pairs: one large positive return followed by one large negative return or vice versa. It is understandable as one \n",
    "# abnormal data point in price can cause two abnormal returns: one for today and the other for the next day (assumming the data points\n",
    "# around that abnormal data point are normal). \n",
    "# Another observation of those return data is that for the cases that adj close has abnormal returns, the Open, High, Low, Close returns \n",
    "# are pretty normal (especially the Close returns are almost in sync with Adj Close in normal circumstances.\n",
    "# I can use this observation to proxy the Adj Close returns with the Close price returns. \n",
    "print(cleanedData.loc[retFilter])"
   ]
  },
  {
   "cell_type": "code",
   "execution_count": 500,
   "metadata": {},
   "outputs": [
    {
     "name": "stdout",
     "output_type": "stream",
     "text": [
      "6 data points corrected!\n",
      "('Signal', Timestamp('2016-07-13 00:00:00'))\n",
      "20.3950827-->13.845523248\n",
      "('Signal', Timestamp('2016-11-30 00:00:00'))\n",
      "20.738649859200002-->15.3317071368\n",
      "('Adj Close', Timestamp('2016-12-05 00:00:00'))\n",
      "166.175079-->126.175074159609\n",
      "('Signal', Timestamp('2017-03-22 00:00:00'))\n",
      "19.02931644-->14.630651699999998\n",
      "('Adj Close', Timestamp('2017-03-27 00:00:00'))\n",
      "158.577637-->128.5776161484658\n",
      "('Signal', Timestamp('2018-10-09 00:00:00'))\n",
      "26.12487282288-->20.367731340000002\n"
     ]
    }
   ],
   "source": [
    "# Based on the previous observation, I cannot directly remove those records that have abnormal returns. Rather, I write a loop to handle \n",
    "# the case one by one. Although a bit slow, it can avoid the problem of one jump causing two records removed (itself and the one after!)\n",
    "def correctRecordsWithAbnormalReturns(cleanedData, rets, zscoreThreshold=5):\n",
    "    count = 0\n",
    "    correctedData = {}\n",
    "    tempData = cleanedData.copy()\n",
    "    signalRetMean = rets.describe().loc['mean', 'Signal']\n",
    "    signalRetStd = rets.describe().loc['std', 'Signal']\n",
    "    ETFRetMean = rets.describe().loc['mean', 'Adj Close']\n",
    "    ETFRetStd = rets.describe().loc['std', 'Adj Close']\n",
    "    for i in range(1, len(tempData)):\n",
    "        current = tempData.iloc[i,:]\n",
    "        previous = tempData.iloc[i-1,:]\n",
    "        currentDate = (tempData.index[i])\n",
    "        previousDate = (tempData.index[i-1])\n",
    "        signalRet = current['Signal'].squeeze() / previous['Signal'].squeeze() - 1\n",
    "        ETFRet = current['Adj Close'].squeeze() / previous['Adj Close'].squeeze() - 1\n",
    "        signalZscore = zscore(signalRet, signalRetMean, signalRetStd)\n",
    "        ETFZscore = zscore(ETFRet, ETFRetMean, ETFRetStd)\n",
    "        if abs(signalZscore)>=zscoreThreshold:\n",
    "            count +=1\n",
    "            badData = tempData.loc[currentDate, 'Signal']\n",
    "            tempData.loc[currentDate, 'Signal'] = tempData.loc[previousDate, 'Signal']\n",
    "            correctedData[('Signal',currentDate)] = (badData, tempData.loc[currentDate, 'Signal'])\n",
    "        elif abs(ETFZscore)>=zscoreThreshold:\n",
    "            count +=1\n",
    "            badData = tempData.loc[currentDate, 'Adj Close']\n",
    "            tempData.loc[currentDate, 'Adj Close'] = tempData.loc[previousDate, 'Adj Close'] * (1+rets.loc[currentDate, 'Close'])\n",
    "            correctedData[('Adj Close',currentDate)] = (badData, tempData.loc[currentDate, 'Adj Close'])\n",
    "    return tempData, count, correctedData\n",
    "cleanedData2, count, correctedData = correctRecordsWithAbnormalReturns(cleanedData, rets, zscoreThreshold=5)\n",
    "print('{} data points corrected!'.format(count))\n",
    "for key, valuePair in correctedData.items():\n",
    "    print(key)\n",
    "    print('{}-->{}'.format(valuePair[0], valuePair[1]))"
   ]
  },
  {
   "cell_type": "code",
   "execution_count": 501,
   "metadata": {},
   "outputs": [
    {
     "name": "stdout",
     "output_type": "stream",
     "text": [
      "(1032, 9)\n"
     ]
    },
    {
     "data": {
      "image/png": "[encoded data removed]",
      "text/plain": [
       "<Figure size 432x288 with 1 Axes>"
      ]
     },
     "metadata": {
      "needs_background": "light"
     },
     "output_type": "display_data"
    }
   ],
   "source": [
    "# as expected the extra outliers were removed from the initial cleaned data.\n",
    "# now the time series data for both the 'Signal' and the 'Adj Close' look reasonable. \n",
    "cleanedData2.loc[:, neededCols].plot()\n",
    "print(cleanedData2.shape)"
   ]
  },
  {
   "cell_type": "code",
   "execution_count": 502,
   "metadata": {},
   "outputs": [
    {
     "name": "stdout",
     "output_type": "stream",
     "text": [
      "Adj Close\n",
      "133.321198    12\n",
      "116.178825     3\n",
      "142.616989     2\n",
      "160.489944     2\n",
      "149.865677     2\n",
      "152.487717     2\n",
      "115.328331     2\n",
      "135.600998     2\n",
      "129.579605     2\n",
      "129.588120     2\n",
      "145.334091     2\n",
      "103.730415     2\n",
      "129.808640     2\n",
      "117.333832     2\n",
      "159.562042     2\n",
      "106.484169     2\n",
      "157.493622     2\n",
      "132.623718     2\n",
      "156.352997     2\n",
      "132.024063     2\n",
      "131.928925     2\n",
      "107.903297     2\n",
      "128.313110     2\n",
      "155.792709     2\n",
      "165.552902     2\n",
      "164.850052     2\n",
      "128.265549     1\n",
      "130.599396     1\n",
      "127.046913     1\n",
      "130.810226     1\n",
      "Name: Adj Close, dtype: int64\n"
     ]
    }
   ],
   "source": [
    "# check duplicates in the data\n",
    "cleanedData3 = cleanedData2.copy()\n",
    "print(cleanedData3.groupby(['Adj Close'])['Adj Close'].count().sort_values(ascending=False).head(30))\n",
    "# There seems to be severe duplicates in the Adj Close prices. Take a deep dive on it. "
   ]
  },
  {
   "cell_type": "code",
   "execution_count": 503,
   "metadata": {},
   "outputs": [
    {
     "data": {
      "text/html": [
       "<div>\n",
       "<style scoped>\n",
       "    .dataframe tbody tr th:only-of-type {\n",
       "        vertical-align: middle;\n",
       "    }\n",
       "\n",
       "    .dataframe tbody tr th {\n",
       "        vertical-align: top;\n",
       "    }\n",
       "\n",
       "    .dataframe thead th {\n",
       "        text-align: right;\n",
       "    }\n",
       "</style>\n",
       "<table border=\"1\" class=\"dataframe\">\n",
       "  <thead>\n",
       "    <tr style=\"text-align: right;\">\n",
       "      <th></th>\n",
       "      <th>Signal</th>\n",
       "      <th>Open</th>\n",
       "      <th>High</th>\n",
       "      <th>Low</th>\n",
       "      <th>Close</th>\n",
       "      <th>Adj Close</th>\n",
       "      <th>Outlier</th>\n",
       "      <th>Signal_zscore</th>\n",
       "      <th>Adj Close_zscore</th>\n",
       "    </tr>\n",
       "    <tr>\n",
       "      <th>Date</th>\n",
       "      <th></th>\n",
       "      <th></th>\n",
       "      <th></th>\n",
       "      <th></th>\n",
       "      <th></th>\n",
       "      <th></th>\n",
       "      <th></th>\n",
       "      <th></th>\n",
       "      <th></th>\n",
       "    </tr>\n",
       "  </thead>\n",
       "  <tbody>\n",
       "    <tr>\n",
       "      <th>2017-09-07</th>\n",
       "      <td>16.478500</td>\n",
       "      <td>139.589996</td>\n",
       "      <td>139.690002</td>\n",
       "      <td>138.589996</td>\n",
       "      <td>139.110001</td>\n",
       "      <td>133.321198</td>\n",
       "      <td>0</td>\n",
       "      <td>-0.132997</td>\n",
       "      <td>-0.162633</td>\n",
       "    </tr>\n",
       "    <tr>\n",
       "      <th>2017-09-08</th>\n",
       "      <td>15.518587</td>\n",
       "      <td>138.929993</td>\n",
       "      <td>139.770004</td>\n",
       "      <td>138.619995</td>\n",
       "      <td>139.110001</td>\n",
       "      <td>133.321198</td>\n",
       "      <td>0</td>\n",
       "      <td>-0.479996</td>\n",
       "      <td>-0.162633</td>\n",
       "    </tr>\n",
       "    <tr>\n",
       "      <th>2017-09-11</th>\n",
       "      <td>15.838558</td>\n",
       "      <td>140.389999</td>\n",
       "      <td>140.919998</td>\n",
       "      <td>140.229996</td>\n",
       "      <td>139.110001</td>\n",
       "      <td>133.321198</td>\n",
       "      <td>0</td>\n",
       "      <td>-0.364330</td>\n",
       "      <td>-0.162633</td>\n",
       "    </tr>\n",
       "    <tr>\n",
       "      <th>2017-09-12</th>\n",
       "      <td>15.518587</td>\n",
       "      <td>141.039993</td>\n",
       "      <td>141.690002</td>\n",
       "      <td>140.820007</td>\n",
       "      <td>139.110001</td>\n",
       "      <td>133.321198</td>\n",
       "      <td>0</td>\n",
       "      <td>-0.479996</td>\n",
       "      <td>-0.162633</td>\n",
       "    </tr>\n",
       "    <tr>\n",
       "      <th>2017-09-13</th>\n",
       "      <td>16.158529</td>\n",
       "      <td>141.410004</td>\n",
       "      <td>142.220001</td>\n",
       "      <td>141.320007</td>\n",
       "      <td>139.110001</td>\n",
       "      <td>133.321198</td>\n",
       "      <td>0</td>\n",
       "      <td>-0.248663</td>\n",
       "      <td>-0.162633</td>\n",
       "    </tr>\n",
       "    <tr>\n",
       "      <th>2017-09-14</th>\n",
       "      <td>16.478500</td>\n",
       "      <td>141.779999</td>\n",
       "      <td>142.160004</td>\n",
       "      <td>141.419998</td>\n",
       "      <td>139.110001</td>\n",
       "      <td>133.321198</td>\n",
       "      <td>0</td>\n",
       "      <td>-0.132997</td>\n",
       "      <td>-0.162633</td>\n",
       "    </tr>\n",
       "    <tr>\n",
       "      <th>2017-09-15</th>\n",
       "      <td>15.198617</td>\n",
       "      <td>141.639999</td>\n",
       "      <td>142.470001</td>\n",
       "      <td>141.550003</td>\n",
       "      <td>139.110001</td>\n",
       "      <td>133.321198</td>\n",
       "      <td>0</td>\n",
       "      <td>-0.595662</td>\n",
       "      <td>-0.162633</td>\n",
       "    </tr>\n",
       "    <tr>\n",
       "      <th>2017-09-18</th>\n",
       "      <td>15.518587</td>\n",
       "      <td>142.619995</td>\n",
       "      <td>143.809998</td>\n",
       "      <td>142.600006</td>\n",
       "      <td>139.110001</td>\n",
       "      <td>133.321198</td>\n",
       "      <td>0</td>\n",
       "      <td>-0.479996</td>\n",
       "      <td>-0.162633</td>\n",
       "    </tr>\n",
       "    <tr>\n",
       "      <th>2017-09-19</th>\n",
       "      <td>16.798471</td>\n",
       "      <td>143.570007</td>\n",
       "      <td>143.690002</td>\n",
       "      <td>143.089996</td>\n",
       "      <td>139.110001</td>\n",
       "      <td>133.321198</td>\n",
       "      <td>0</td>\n",
       "      <td>-0.017331</td>\n",
       "      <td>-0.162633</td>\n",
       "    </tr>\n",
       "    <tr>\n",
       "      <th>2017-09-20</th>\n",
       "      <td>15.953688</td>\n",
       "      <td>143.529999</td>\n",
       "      <td>144.020004</td>\n",
       "      <td>143.259995</td>\n",
       "      <td>139.110001</td>\n",
       "      <td>133.321198</td>\n",
       "      <td>0</td>\n",
       "      <td>-0.322711</td>\n",
       "      <td>-0.162633</td>\n",
       "    </tr>\n",
       "    <tr>\n",
       "      <th>2017-09-21</th>\n",
       "      <td>16.004491</td>\n",
       "      <td>144.020004</td>\n",
       "      <td>144.259995</td>\n",
       "      <td>143.479996</td>\n",
       "      <td>139.110001</td>\n",
       "      <td>133.321198</td>\n",
       "      <td>0</td>\n",
       "      <td>-0.304347</td>\n",
       "      <td>-0.162633</td>\n",
       "    </tr>\n",
       "    <tr>\n",
       "      <th>2017-09-22</th>\n",
       "      <td>16.997600</td>\n",
       "      <td>143.669998</td>\n",
       "      <td>144.669998</td>\n",
       "      <td>143.559998</td>\n",
       "      <td>139.110001</td>\n",
       "      <td>133.321198</td>\n",
       "      <td>0</td>\n",
       "      <td>0.054652</td>\n",
       "      <td>-0.162633</td>\n",
       "    </tr>\n",
       "  </tbody>\n",
       "</table>\n",
       "</div>"
      ],
      "text/plain": [
       "               Signal        Open        High         Low       Close  \\\n",
       "Date                                                                    \n",
       "2017-09-07  16.478500  139.589996  139.690002  138.589996  139.110001   \n",
       "2017-09-08  15.518587  138.929993  139.770004  138.619995  139.110001   \n",
       "2017-09-11  15.838558  140.389999  140.919998  140.229996  139.110001   \n",
       "2017-09-12  15.518587  141.039993  141.690002  140.820007  139.110001   \n",
       "2017-09-13  16.158529  141.410004  142.220001  141.320007  139.110001   \n",
       "2017-09-14  16.478500  141.779999  142.160004  141.419998  139.110001   \n",
       "2017-09-15  15.198617  141.639999  142.470001  141.550003  139.110001   \n",
       "2017-09-18  15.518587  142.619995  143.809998  142.600006  139.110001   \n",
       "2017-09-19  16.798471  143.570007  143.690002  143.089996  139.110001   \n",
       "2017-09-20  15.953688  143.529999  144.020004  143.259995  139.110001   \n",
       "2017-09-21  16.004491  144.020004  144.259995  143.479996  139.110001   \n",
       "2017-09-22  16.997600  143.669998  144.669998  143.559998  139.110001   \n",
       "\n",
       "             Adj Close  Outlier  Signal_zscore  Adj Close_zscore  \n",
       "Date                                                              \n",
       "2017-09-07  133.321198        0      -0.132997         -0.162633  \n",
       "2017-09-08  133.321198        0      -0.479996         -0.162633  \n",
       "2017-09-11  133.321198        0      -0.364330         -0.162633  \n",
       "2017-09-12  133.321198        0      -0.479996         -0.162633  \n",
       "2017-09-13  133.321198        0      -0.248663         -0.162633  \n",
       "2017-09-14  133.321198        0      -0.132997         -0.162633  \n",
       "2017-09-15  133.321198        0      -0.595662         -0.162633  \n",
       "2017-09-18  133.321198        0      -0.479996         -0.162633  \n",
       "2017-09-19  133.321198        0      -0.017331         -0.162633  \n",
       "2017-09-20  133.321198        0      -0.322711         -0.162633  \n",
       "2017-09-21  133.321198        0      -0.304347         -0.162633  \n",
       "2017-09-22  133.321198        0       0.054652         -0.162633  "
      ]
     },
     "execution_count": 503,
     "metadata": {},
     "output_type": "execute_result"
    },
    {
     "data": {
      "image/png": "[encoded data removed]",
      "text/plain": [
       "<Figure size 432x288 with 1 Axes>"
      ]
     },
     "metadata": {
      "needs_background": "light"
     },
     "output_type": "display_data"
    }
   ],
   "source": [
    "adjCloseCounts = cleanedData3.groupby(['Adj Close'])['Adj Close'].count().sort_values(ascending=False)\n",
    "adjDuplicates = cleanedData3[cleanedData3['Adj Close'] == adjCloseCounts[adjCloseCounts>=3].index[0]]\n",
    "minDupDate = min(adjDuplicates.index)\n",
    "maxDupDate = max(adjDuplicates.index)\n",
    "minDupIndex = list(cleanedData3.index).index(minDupDate)\n",
    "maxDupIndex = list(cleanedData3.index).index(maxDupDate)\n",
    "cleanedData3.iloc[minDupIndex:maxDupIndex, :]['Adj Close'].plot()\n",
    "adjDuplicates\n",
    "# from the plot we can see that the duplicates happens on consecutive dates, which is also true by looking at the data itself.\n",
    "# Will design an algorithm to correct those duplicate in the next section. "
   ]
  },
  {
   "cell_type": "code",
   "execution_count": 504,
   "metadata": {},
   "outputs": [
    {
     "name": "stdout",
     "output_type": "stream",
     "text": [
      "               Signal        Open        High         Low       Close  \\\n",
      "Date                                                                    \n",
      "2017-09-07  16.478500  139.589996  139.690002  138.589996  139.110001   \n",
      "2017-09-08  15.518587  138.929993  139.770004  138.619995  139.110001   \n",
      "2017-09-11  15.838558  140.389999  140.919998  140.229996  139.110001   \n",
      "2017-09-12  15.518587  141.039993  141.690002  140.820007  139.110001   \n",
      "2017-09-13  16.158529  141.410004  142.220001  141.320007  139.110001   \n",
      "2017-09-14  16.478500  141.779999  142.160004  141.419998  139.110001   \n",
      "2017-09-15  15.198617  141.639999  142.470001  141.550003  139.110001   \n",
      "2017-09-18  15.518587  142.619995  143.809998  142.600006  139.110001   \n",
      "2017-09-19  16.798471  143.570007  143.690002  143.089996  139.110001   \n",
      "2017-09-20  15.953688  143.529999  144.020004  143.259995  139.110001   \n",
      "2017-09-21  16.004491  144.020004  144.259995  143.479996  139.110001   \n",
      "2017-09-22  16.997600  143.669998  144.669998  143.559998  139.110001   \n",
      "\n",
      "             Adj Close  Outlier  Signal_zscore  Adj Close_zscore  \n",
      "Date                                                              \n",
      "2017-09-07  133.321198        0      -0.132997         -0.162633  \n",
      "2017-09-08  133.146148        0      -0.479996         -0.162633  \n",
      "2017-09-11  134.493196        0      -0.364330         -0.162633  \n",
      "2017-09-12  135.134347        0      -0.479996         -0.162633  \n",
      "2017-09-13  135.580949        0      -0.248663         -0.162633  \n",
      "2017-09-14  135.712108        0      -0.132997         -0.162633  \n",
      "2017-09-15  135.807671        0      -0.595662         -0.162633  \n",
      "2017-09-18  136.882465        0      -0.479996         -0.162633  \n",
      "2017-09-19  137.305106        0      -0.017331         -0.162633  \n",
      "2017-09-20  137.451840        0      -0.322711         -0.162633  \n",
      "2017-09-21  137.754967        0      -0.304347         -0.162633  \n",
      "2017-09-22  137.799482        0       0.054652         -0.162633  \n"
     ]
    },
    {
     "data": {
      "text/plain": [
       "(1032, 9)"
      ]
     },
     "execution_count": 504,
     "metadata": {},
     "output_type": "execute_result"
    }
   ],
   "source": [
    "# Correct the block duplicates with returns implied from Open, high, low (basically take an average of the three)\n",
    "pctEst = cleanedData3.pct_change().loc[adjDuplicates.index[1:],:][['Open', 'High', 'Low']].mean(axis=1)\n",
    "start = cleanedData3.loc[adjDuplicates.index[0],['Adj Close']]\n",
    "cumRet = (pctEst+1).cumprod()\n",
    "cleanedData3.loc[adjDuplicates.index[1:],'Adj Close'] = (cumRet*(start.squeeze())).values\n",
    "print(cleanedData3.loc[adjDuplicates.index[0:],:])\n",
    "cleanedData3.shape\n"
   ]
  },
  {
   "cell_type": "code",
   "execution_count": 505,
   "metadata": {
    "scrolled": false
   },
   "outputs": [
    {
     "name": "stdout",
     "output_type": "stream",
     "text": [
      "               Signal        Open        High         Low       Close  \\\n",
      "Date                                                                    \n",
      "2016-08-18  14.070737  122.080002  122.970001  122.040001  122.940002   \n",
      "2016-08-19  14.374889  122.769997  123.070000  122.279999  122.940002   \n",
      "2016-09-12  14.116188  120.690002  122.970001  120.580002  122.940002   \n",
      "\n",
      "             Adj Close  Outlier  Signal_zscore  Adj Close_zscore  \n",
      "Date                                                              \n",
      "2016-08-18  116.178825        0      -1.003380         -1.046064  \n",
      "2016-08-19  116.178825        0      -0.893432         -1.046064  \n",
      "2016-09-12  116.178825        0      -0.986950         -1.046064  \n",
      "               Signal        Open        High         Low       Close  \\\n",
      "Date                                                                    \n",
      "2016-08-18  14.070737  122.080002  122.970001  122.040001  122.940002   \n",
      "2016-08-19  14.374889  122.769997  123.070000  122.279999  122.940002   \n",
      "2016-09-12  14.116188  120.690002  122.970001  120.580002  122.940002   \n",
      "\n",
      "             Adj Close  Outlier  Signal_zscore  Adj Close_zscore  \n",
      "Date                                                              \n",
      "2016-08-18  116.178825        0      -1.003380         -1.046064  \n",
      "2016-08-19  116.505355        0      -0.893432         -1.046064  \n",
      "2016-09-12  116.178825        0      -0.986950         -1.046064  \n"
     ]
    }
   ],
   "source": [
    "# handle other duplicates other than the block one with duplicate count 3\n",
    "cleanedData4 = cleanedData3.copy()\n",
    "adjDuplicates2 = cleanedData4[cleanedData4['Adj Close'] == adjCloseCounts[adjCloseCounts>=3].index[1]]\n",
    "print(adjDuplicates2)\n",
    "for i in range(1, len(adjDuplicates2)):\n",
    "    currentDate = adjDuplicates2.index[i]\n",
    "    previousDate = adjDuplicates2.index[i-1]\n",
    "    if list(cleanedData4.index).index(currentDate) - list(cleanedData4.index).index(previousDate)==1: # meaning consecutive\n",
    "        cleanedData4.loc[currentDate, 'Adj Close'] = cleanedData4.loc[currentDate, 'Adj Close']* \\\n",
    "        (1+cleanedData4.pct_change().loc[currentDate,:][['Open', 'High', 'Low']].mean())\n",
    "print(cleanedData4.loc[adjDuplicates2.index,:])    "
   ]
  },
  {
   "cell_type": "code",
   "execution_count": 506,
   "metadata": {},
   "outputs": [
    {
     "name": "stdout",
     "output_type": "stream",
     "text": [
      "Open        High        Low         Close       Adj Close \n",
      "165.229996  166.660004  164.850006  166.039993  160.489944    2\n",
      "167.240005  167.369995  164.139999  165.080002  159.562042    2\n",
      "162.369995  163.240005  162.360001  162.940002  157.493622    2\n",
      "163.259995  163.330002  161.630005  161.759995  156.352997    2\n",
      "136.229996  137.300003  136.210007  136.649994  130.025879    1\n",
      "136.490005  137.809998  136.229996  137.490005  131.768616    1\n",
      "136.979996  137.690002  134.919998  134.929993  129.315140    1\n",
      "136.889999  136.979996  134.830002  135.250000  128.693710    1\n",
      "136.880005  137.309998  136.419998  136.880005  131.183990    1\n",
      "136.839996  136.919998  134.639999  136.320007  130.085373    1\n",
      "Name: Adj Close, dtype: int64\n"
     ]
    }
   ],
   "source": [
    "# Now we only left with duplicates count 2 for Adj Close. Leave it for now - handle it if there is extra time. \n",
    "print(cleanedData4.groupby(['Open','High','Low','Close', 'Adj Close'])['Adj Close'].count().sort_values(ascending=False).head(10))"
   ]
  },
  {
   "cell_type": "code",
   "execution_count": 507,
   "metadata": {},
   "outputs": [
    {
     "name": "stdout",
     "output_type": "stream",
     "text": [
      "Signal\n",
      "16.478500    3\n",
      "15.518587    3\n",
      "19.483907    2\n",
      "15.282748    2\n",
      "12.139195    2\n",
      "13.845523    2\n",
      "20.274163    2\n",
      "15.705525    2\n",
      "17.628384    2\n",
      "20.367731    2\n",
      "15.331707    2\n",
      "14.630652    2\n",
      "18.995502    2\n",
      "20.448445    2\n",
      "15.673822    1\n",
      "15.690014    1\n",
      "15.685586    1\n",
      "15.694927    1\n",
      "15.682386    1\n",
      "15.675808    1\n",
      "Name: Signal, dtype: int64\n"
     ]
    }
   ],
   "source": [
    "# move ahead with checking duplicates for the signal. \n",
    "print(cleanedData4.groupby(['Signal'])['Signal'].count().sort_values(ascending=False).head(20))"
   ]
  },
  {
   "cell_type": "code",
   "execution_count": 508,
   "metadata": {},
   "outputs": [
    {
     "data": {
      "text/html": [
       "<div>\n",
       "<style scoped>\n",
       "    .dataframe tbody tr th:only-of-type {\n",
       "        vertical-align: middle;\n",
       "    }\n",
       "\n",
       "    .dataframe tbody tr th {\n",
       "        vertical-align: top;\n",
       "    }\n",
       "\n",
       "    .dataframe thead th {\n",
       "        text-align: right;\n",
       "    }\n",
       "</style>\n",
       "<table border=\"1\" class=\"dataframe\">\n",
       "  <thead>\n",
       "    <tr style=\"text-align: right;\">\n",
       "      <th></th>\n",
       "      <th>Signal</th>\n",
       "      <th>Open</th>\n",
       "      <th>High</th>\n",
       "      <th>Low</th>\n",
       "      <th>Close</th>\n",
       "      <th>Adj Close</th>\n",
       "      <th>Outlier</th>\n",
       "      <th>Signal_zscore</th>\n",
       "      <th>Adj Close_zscore</th>\n",
       "    </tr>\n",
       "    <tr>\n",
       "      <th>Date</th>\n",
       "      <th></th>\n",
       "      <th></th>\n",
       "      <th></th>\n",
       "      <th></th>\n",
       "      <th></th>\n",
       "      <th></th>\n",
       "      <th></th>\n",
       "      <th></th>\n",
       "      <th></th>\n",
       "    </tr>\n",
       "  </thead>\n",
       "  <tbody>\n",
       "    <tr>\n",
       "      <th>2017-09-01</th>\n",
       "      <td>16.4785</td>\n",
       "      <td>139.979996</td>\n",
       "      <td>140.630005</td>\n",
       "      <td>139.729996</td>\n",
       "      <td>140.520004</td>\n",
       "      <td>134.672531</td>\n",
       "      <td>0</td>\n",
       "      <td>-0.132997</td>\n",
       "      <td>-0.092992</td>\n",
       "    </tr>\n",
       "    <tr>\n",
       "      <th>2017-09-07</th>\n",
       "      <td>16.4785</td>\n",
       "      <td>139.589996</td>\n",
       "      <td>139.690002</td>\n",
       "      <td>138.589996</td>\n",
       "      <td>139.110001</td>\n",
       "      <td>133.321198</td>\n",
       "      <td>0</td>\n",
       "      <td>-0.132997</td>\n",
       "      <td>-0.162633</td>\n",
       "    </tr>\n",
       "    <tr>\n",
       "      <th>2017-09-14</th>\n",
       "      <td>16.4785</td>\n",
       "      <td>141.779999</td>\n",
       "      <td>142.160004</td>\n",
       "      <td>141.419998</td>\n",
       "      <td>139.110001</td>\n",
       "      <td>135.712108</td>\n",
       "      <td>0</td>\n",
       "      <td>-0.132997</td>\n",
       "      <td>-0.162633</td>\n",
       "    </tr>\n",
       "  </tbody>\n",
       "</table>\n",
       "</div>"
      ],
      "text/plain": [
       "             Signal        Open        High         Low       Close  \\\n",
       "Date                                                                  \n",
       "2017-09-01  16.4785  139.979996  140.630005  139.729996  140.520004   \n",
       "2017-09-07  16.4785  139.589996  139.690002  138.589996  139.110001   \n",
       "2017-09-14  16.4785  141.779999  142.160004  141.419998  139.110001   \n",
       "\n",
       "             Adj Close  Outlier  Signal_zscore  Adj Close_zscore  \n",
       "Date                                                              \n",
       "2017-09-01  134.672531        0      -0.132997         -0.092992  \n",
       "2017-09-07  133.321198        0      -0.132997         -0.162633  \n",
       "2017-09-14  135.712108        0      -0.132997         -0.162633  "
      ]
     },
     "execution_count": 508,
     "metadata": {},
     "output_type": "execute_result"
    }
   ],
   "source": [
    "signalCounts = cleanedData4.groupby(['Signal'])['Signal'].count().sort_values(ascending=False)\n",
    "signalDuplicates\n",
    "cleanedData4[cleanedData4['Signal'] == signalCounts[signalCounts>=3].index[0]]\n",
    "# the duplicates are not consecutive, may just leave them as is."
   ]
  },
  {
   "cell_type": "code",
   "execution_count": 509,
   "metadata": {},
   "outputs": [
    {
     "data": {
      "text/plain": [
       "<matplotlib.collections.PathCollection at 0x2eadb259088>"
      ]
     },
     "execution_count": 509,
     "metadata": {},
     "output_type": "execute_result"
    },
    {
     "data": {
      "image/png": "[encoded data removed]",
      "text/plain": [
       "<Figure size 432x288 with 1 Axes>"
      ]
     },
     "metadata": {
      "needs_background": "light"
     },
     "output_type": "display_data"
    }
   ],
   "source": [
    "# now we can proceed with the analysis of the predictive power of the signal\n",
    "# from the scatter plot, there seems to be some linear relationship between the two variables. \n",
    "finalCleanedData = cleanedData4.loc[:,orignalColumns]\n",
    "plt.scatter(finalCleanedData['Signal'], finalCleanedData['Adj Close'])"
   ]
  },
  {
   "cell_type": "code",
   "execution_count": 510,
   "metadata": {},
   "outputs": [],
   "source": [
    "# Define some functions needed for regression analysis\n",
    "\n",
    "import statsmodels.api as sm\n",
    "from scipy import stats\n",
    "from sklearn.linear_model import LinearRegression\n",
    "from sklearn.metrics import mean_squared_error, r2_score\n",
    "\n",
    "def trainTestSplit(data, trainPercentage=0.8):\n",
    "    n = data.shape[0]\n",
    "    trainLength = int(n*trainPercentage)\n",
    "    return data.iloc[:trainLength, :], data.iloc[trainLength:, :]\n",
    "\n",
    "def constructXandYFromDF(df, xCol, yCol):\n",
    "    if len(xCol)==1:\n",
    "        X = np.array(df[xCol]).reshape(-1,1)\n",
    "    else:\n",
    "        X = np.array(df[xCol])\n",
    "    y = np.array(df[yCol])\n",
    "    return X, y\n",
    "\n",
    "def runLinearRegressionSKL(df, xCol, yCol):\n",
    "    X, y = constructXandYFromDF(df, xCol, yCol)\n",
    "    linReg = LinearRegression()\n",
    "    linReg.fit(X, y)\n",
    "    return linReg, linReg.score(X,y)\n",
    "\n",
    "def runLinearRegressionSM(df, xCol, yCol):\n",
    "    X, y = constructXandYFromDF(df, xCol, yCol)\n",
    "    X2 = sm.add_constant(X)\n",
    "    model = sm.OLS(y, X2)\n",
    "    modelFitted = model.fit()\n",
    "    return modelFitted\n",
    "\n",
    "def MSEAndR2InTest(model, testData, xCol, yCol, DEBUG=False):\n",
    "    X, y = constructXandYFromDF(testData, xCol, yCol)\n",
    "    yPred = model.predict(X)\n",
    "    if DEBUG:\n",
    "        print(np.concatenate((y, yPred), axis=1))\n",
    "    mse = mean_squared_error(y, yPred)\n",
    "    r2 = r2_score(y, yPred)\n",
    "    return mse, r2\n",
    "    "
   ]
  },
  {
   "cell_type": "code",
   "execution_count": 511,
   "metadata": {},
   "outputs": [],
   "source": [
    "trainData, testData = trainTestSplit(finalCleanedData, 0.8)\n",
    "xCol = ['Signal']\n",
    "yCol = ['Adj Close']\n",
    "fittedModel = runLinearRegressionSM(trainData, ['Signal'], ['Adj Close'])"
   ]
  },
  {
   "cell_type": "code",
   "execution_count": 512,
   "metadata": {},
   "outputs": [
    {
     "name": "stdout",
     "output_type": "stream",
     "text": [
      "                            OLS Regression Results                            \n",
      "==============================================================================\n",
      "Dep. Variable:                      y   R-squared:                       0.931\n",
      "Model:                            OLS   Adj. R-squared:                  0.931\n",
      "Method:                 Least Squares   F-statistic:                 1.118e+04\n",
      "Date:                Wed, 30 Jun 2021   Prob (F-statistic):               0.00\n",
      "Time:                        23:58:59   Log-Likelihood:                -2525.2\n",
      "No. Observations:                 825   AIC:                             5054.\n",
      "Df Residuals:                     823   BIC:                             5064.\n",
      "Df Model:                           1                                         \n",
      "Covariance Type:            nonrobust                                         \n",
      "==============================================================================\n",
      "                 coef    std err          t      P>|t|      [0.025      0.975]\n",
      "------------------------------------------------------------------------------\n",
      "const         20.3179      1.077     18.872      0.000      18.205      22.431\n",
      "x1             6.9123      0.065    105.753      0.000       6.784       7.041\n",
      "==============================================================================\n",
      "Omnibus:                        0.096   Durbin-Watson:                   1.086\n",
      "Prob(Omnibus):                  0.953   Jarque-Bera (JB):                0.040\n",
      "Skew:                          -0.010   Prob(JB):                        0.980\n",
      "Kurtosis:                       3.027   Cond. No.                         98.8\n",
      "==============================================================================\n",
      "\n",
      "Warnings:\n",
      "[1] Standard Errors assume that the covariance matrix of the errors is correctly specified.\n"
     ]
    }
   ],
   "source": [
    "# from the model summary, we can see it is statistically significant with R2 around 0.93.\n",
    "print(fittedModel.summary())"
   ]
  },
  {
   "cell_type": "code",
   "execution_count": 513,
   "metadata": {},
   "outputs": [
    {
     "name": "stdout",
     "output_type": "stream",
     "text": [
      "R2 score in sample: 0.9315\n",
      "Mean squared error: 25.1576\n",
      "Coefficient of determination: -0.1289\n"
     ]
    }
   ],
   "source": [
    "# get some performance measures of the model for in sample (IS) and out of sample (OOS) periods\n",
    "fittedModelSKL, r2Score = runLinearRegressionSKL(trainData, xCol, yCol)\n",
    "print('R2 score in sample: %.4f'% r2Score)\n",
    "mse, r2 = MSEAndR2InTest(fittedModelSKL, testData, xCol, yCol, False)\n",
    "print('Mean squared error: %.4f'% mse)\n",
    "# The coefficient of determination: 1 is perfect prediction\n",
    "print('Coefficient of determination: %.4f'% r2)\n",
    "# The negative R2 in the test or OOS period shows that with current split of train & test data. The model\n",
    "# does not have any predictive power in the OOS period. Could it be due to that we used more distant data in the training period?\n",
    "# In the next section I will test out various trailing periods used to predict 5 day OOS results. "
   ]
  },
  {
   "cell_type": "code",
   "execution_count": 514,
   "metadata": {},
   "outputs": [],
   "source": [
    "# Run a series of trailing periods for training model: from 30 to 210 days. \n",
    "# I didn't use rolling method, rather trunked all the data into segments needed for this analysis. \n",
    "def testBestTrainingPeriod(trainData, xCol, yCol):\n",
    "    trailingPeriods = [30, 60, 90, 120, 150, 180, 210]\n",
    "    predictPeriod = 5\n",
    "    length = len(trainData)\n",
    "    r2ArrayInSample = [None]*len(trailingPeriods)\n",
    "    r2Array = [None]*len(trailingPeriods)\n",
    "    for i,tp in enumerate(trailingPeriods):\n",
    "        segLength = (tp+predictPeriod)\n",
    "        segments = length//segLength\n",
    "        r2InSample = []\n",
    "        r2Temp = []\n",
    "        for sgIndex in range(segments):\n",
    "            segData = trainData[sgIndex*segLength:(sgIndex+1)*segLength]\n",
    "            segTrain = segData[:tp]\n",
    "            segTest = segData[tp:]\n",
    "            fittedModelSKL, r2Score = runLinearRegressionSKL(segTrain, xCol, yCol)\n",
    "            mse, r2 = MSEAndR2InTest(fittedModelSKL, segTest, xCol, yCol, False)\n",
    "            r2InSample.append(r2Score)\n",
    "            r2Temp.append(r2)\n",
    "        r2ArrayInSample[i] = np.mean(r2InSample)    \n",
    "        r2Array[i] = np.mean(r2Temp)\n",
    "    return r2ArrayInSample, r2Array"
   ]
  },
  {
   "cell_type": "code",
   "execution_count": 515,
   "metadata": {},
   "outputs": [
    {
     "name": "stdout",
     "output_type": "stream",
     "text": [
      "[0.14301474377520537, 0.2858786874909749, 0.37869945113357467, 0.35526547160280275, 0.4469698165043724, 0.6569324674954338, 0.6985398156673132]\n",
      "[-57.69017826028357, -54.77546400843561, -210.6349182950279, -12.405065639226857, -35.75637864130962, -63.613724726661054, -27.32735374412249]\n"
     ]
    }
   ],
   "source": [
    "r2IS, r2OOS = testBestTrainingPeriod(trainData, xCol, yCol)\n",
    "print(r2IS)\n",
    "print(r2OOS)\n",
    "# The results show that the poor performance in the OOS period is not due to not using the most recent data for regression. \n",
    "# For training data from recent 30 to 210 days, none of them have good predictive power in the OOS periods. "
   ]
  },
  {
   "cell_type": "code",
   "execution_count": 516,
   "metadata": {},
   "outputs": [
    {
     "data": {
      "image/png": "[encoded data removed]",
      "text/plain": [
       "<Figure size 432x288 with 1 Axes>"
      ]
     },
     "metadata": {
      "needs_background": "light"
     },
     "output_type": "display_data"
    },
    {
     "data": {
      "image/png": "[encoded data removed]",
      "text/plain": [
       "<Figure size 432x288 with 1 Axes>"
      ]
     },
     "metadata": {
      "needs_background": "light"
     },
     "output_type": "display_data"
    },
    {
     "data": {
      "image/png": "[encoded data removed]",
      "text/plain": [
       "<Figure size 432x288 with 1 Axes>"
      ]
     },
     "metadata": {
      "needs_background": "light"
     },
     "output_type": "display_data"
    },
    {
     "data": {
      "image/png": "[encoded data removed]",
      "text/plain": [
       "<Figure size 432x288 with 1 Axes>"
      ]
     },
     "metadata": {
      "needs_background": "light"
     },
     "output_type": "display_data"
    }
   ],
   "source": [
    "from statsmodels.graphics.tsaplots import plot_acf, plot_pacf\n",
    "\n",
    "def plotAcfAndPacf(ts, lags=50):\n",
    "    plot_pacf(ts, lags=50)\n",
    "    plot_acf(ts, lags=50)\n",
    "\n",
    "plotAcfAndPacf(trainData['Adj Close'], lags=50)\n",
    "\n",
    "ret = cleanedData2.pct_change()\n",
    "plotAcfAndPacf(ret['Adj Close'], lags=50)\n",
    "\n",
    "# from the acf and pacf plots, we can see that the trainData (e.g., IS cleaned data) shows strong AR(1) process characteristics\n",
    "# the percentage returns show there is no lag there, which is expected as the return operation removes trend. "
   ]
  },
  {
   "cell_type": "code",
   "execution_count": 517,
   "metadata": {},
   "outputs": [
    {
     "data": {
      "text/html": [
       "<div>\n",
       "<style scoped>\n",
       "    .dataframe tbody tr th:only-of-type {\n",
       "        vertical-align: middle;\n",
       "    }\n",
       "\n",
       "    .dataframe tbody tr th {\n",
       "        vertical-align: top;\n",
       "    }\n",
       "\n",
       "    .dataframe thead th {\n",
       "        text-align: right;\n",
       "    }\n",
       "</style>\n",
       "<table border=\"1\" class=\"dataframe\">\n",
       "  <thead>\n",
       "    <tr style=\"text-align: right;\">\n",
       "      <th></th>\n",
       "      <th>Signal</th>\n",
       "      <th>Open</th>\n",
       "      <th>High</th>\n",
       "      <th>Low</th>\n",
       "      <th>Close</th>\n",
       "      <th>Adj Close</th>\n",
       "      <th>Adj Close Lag1</th>\n",
       "    </tr>\n",
       "    <tr>\n",
       "      <th>Date</th>\n",
       "      <th></th>\n",
       "      <th></th>\n",
       "      <th></th>\n",
       "      <th></th>\n",
       "      <th></th>\n",
       "      <th></th>\n",
       "      <th></th>\n",
       "    </tr>\n",
       "  </thead>\n",
       "  <tbody>\n",
       "    <tr>\n",
       "      <th>2015-11-20</th>\n",
       "      <td>13.608819</td>\n",
       "      <td>116.480003</td>\n",
       "      <td>117.360001</td>\n",
       "      <td>116.379997</td>\n",
       "      <td>116.809998</td>\n",
       "      <td>108.981323</td>\n",
       "      <td>108.281601</td>\n",
       "    </tr>\n",
       "    <tr>\n",
       "      <th>2015-11-23</th>\n",
       "      <td>12.990589</td>\n",
       "      <td>116.709999</td>\n",
       "      <td>117.889999</td>\n",
       "      <td>116.680000</td>\n",
       "      <td>117.389999</td>\n",
       "      <td>109.522453</td>\n",
       "      <td>108.981323</td>\n",
       "    </tr>\n",
       "    <tr>\n",
       "      <th>2015-11-24</th>\n",
       "      <td>12.667435</td>\n",
       "      <td>116.879997</td>\n",
       "      <td>118.419998</td>\n",
       "      <td>116.559998</td>\n",
       "      <td>118.250000</td>\n",
       "      <td>110.324837</td>\n",
       "      <td>109.522453</td>\n",
       "    </tr>\n",
       "    <tr>\n",
       "      <th>2015-11-25</th>\n",
       "      <td>13.019910</td>\n",
       "      <td>118.300003</td>\n",
       "      <td>119.320000</td>\n",
       "      <td>118.110001</td>\n",
       "      <td>119.169998</td>\n",
       "      <td>111.183159</td>\n",
       "      <td>110.324837</td>\n",
       "    </tr>\n",
       "    <tr>\n",
       "      <th>2015-11-27</th>\n",
       "      <td>12.879819</td>\n",
       "      <td>119.269997</td>\n",
       "      <td>119.900002</td>\n",
       "      <td>118.879997</td>\n",
       "      <td>119.620003</td>\n",
       "      <td>111.602997</td>\n",
       "      <td>111.183159</td>\n",
       "    </tr>\n",
       "  </tbody>\n",
       "</table>\n",
       "</div>"
      ],
      "text/plain": [
       "               Signal        Open        High         Low       Close  \\\n",
       "Date                                                                    \n",
       "2015-11-20  13.608819  116.480003  117.360001  116.379997  116.809998   \n",
       "2015-11-23  12.990589  116.709999  117.889999  116.680000  117.389999   \n",
       "2015-11-24  12.667435  116.879997  118.419998  116.559998  118.250000   \n",
       "2015-11-25  13.019910  118.300003  119.320000  118.110001  119.169998   \n",
       "2015-11-27  12.879819  119.269997  119.900002  118.879997  119.620003   \n",
       "\n",
       "             Adj Close  Adj Close Lag1  \n",
       "Date                                    \n",
       "2015-11-20  108.981323      108.281601  \n",
       "2015-11-23  109.522453      108.981323  \n",
       "2015-11-24  110.324837      109.522453  \n",
       "2015-11-25  111.183159      110.324837  \n",
       "2015-11-27  111.602997      111.183159  "
      ]
     },
     "execution_count": 517,
     "metadata": {},
     "output_type": "execute_result"
    }
   ],
   "source": [
    "# let's prove that the ETF price is a strong AR(1) process by running linear regression w.r.t. the lag(1) term.\n",
    "dataWithLag1 = finalCleanedData.copy()\n",
    "newXCol = [yCol[i]+' Lag1' for i in range(len(yCol))]\n",
    "dataWithLag1[newXCol] = finalCleanedData.shift()[yCol]\n",
    "dataWithLag1.dropna(inplace=True)\n",
    "dataWithLag1Train, dataWithLag1Test = trainTestSplit(dataWithLag1, 0.8)\n",
    "dataWithLag1Train.head()"
   ]
  },
  {
   "cell_type": "code",
   "execution_count": 518,
   "metadata": {},
   "outputs": [
    {
     "name": "stdout",
     "output_type": "stream",
     "text": [
      "                            OLS Regression Results                            \n",
      "==============================================================================\n",
      "Dep. Variable:                      y   R-squared:                       0.995\n",
      "Model:                            OLS   Adj. R-squared:                  0.995\n",
      "Method:                 Least Squares   F-statistic:                 1.812e+05\n",
      "Date:                Wed, 30 Jun 2021   Prob (F-statistic):               0.00\n",
      "Time:                        23:59:00   Log-Likelihood:                -1401.3\n",
      "No. Observations:                 824   AIC:                             2807.\n",
      "Df Residuals:                     822   BIC:                             2816.\n",
      "Df Model:                           1                                         \n",
      "Covariance Type:            nonrobust                                         \n",
      "==============================================================================\n",
      "                 coef    std err          t      P>|t|      [0.025      0.975]\n",
      "------------------------------------------------------------------------------\n",
      "const          0.3893      0.314      1.240      0.215      -0.227       1.006\n",
      "x1             0.9975      0.002    425.651      0.000       0.993       1.002\n",
      "==============================================================================\n",
      "Omnibus:                       77.470   Durbin-Watson:                   1.962\n",
      "Prob(Omnibus):                  0.000   Jarque-Bera (JB):              205.424\n",
      "Skew:                          -0.492   Prob(JB):                     2.47e-45\n",
      "Kurtosis:                       5.240   Cond. No.                         910.\n",
      "==============================================================================\n",
      "\n",
      "Warnings:\n",
      "[1] Standard Errors assume that the covariance matrix of the errors is correctly specified.\n"
     ]
    }
   ],
   "source": [
    "fittedAR1Model = runLinearRegressionSM(dataWithLag1Train, newXCol, yCol)\n",
    "print(fittedAR1Model.summary())\n",
    "# we can see that lag1 term is significant and the R2 is almost 1. Let's move ahead to see whether it has any predictive power. "
   ]
  },
  {
   "cell_type": "code",
   "execution_count": 519,
   "metadata": {},
   "outputs": [
    {
     "name": "stdout",
     "output_type": "stream",
     "text": [
      "R2 score in sample: 0.9955\n",
      "Mean squared error out of sample: 2.3047\n",
      "Coefficient of determination out of sample: 0.8966\n"
     ]
    }
   ],
   "source": [
    "fittedAR1ModelSKL, r2AR1Score = runLinearRegressionSKL(dataWithLag1Train, newXCol, yCol)\n",
    "print('R2 score in sample: %.4f'% r2AR1Score)\n",
    "mse, r2 = MSEAndR2InTest(fittedAR1ModelSKL, dataWithLag1Test, newXCol, yCol, False)\n",
    "print('Mean squared error out of sample: %.4f'% mse)\n",
    "print('Coefficient of determination out of sample: %.4f'% r2)"
   ]
  },
  {
   "cell_type": "code",
   "execution_count": 520,
   "metadata": {},
   "outputs": [],
   "source": [
    "# the R2 score shows that the AR(1) model has some 'predictive power' for the stock price, however, is it useful for trading?\n",
    "# basically, we are interested in returns, i.e., how much change we expect the price to have in the future such that we can \n",
    "# trade (buy or sell) profitably. What the AR(1) model tells us is that tomorrow's price is most likely be oscillating around\n",
    "# today's price, therefore, even if we just put today's price we will still end up with a good R2 score. However, this is of\n",
    "# little practical use for trading. On the other hand, this result shows that the previous model based on 'signal' is much\n",
    "# worse, which was beaten both in sample and out of sample. Based on all the results so far, we can say that the 'signal' does\n",
    "# not have any 'extra' predictive power. Let's proceed working with the returns to see how it goes.."
   ]
  },
  {
   "cell_type": "code",
   "execution_count": 521,
   "metadata": {},
   "outputs": [
    {
     "name": "stdout",
     "output_type": "stream",
     "text": [
      "                            OLS Regression Results                            \n",
      "==============================================================================\n",
      "Dep. Variable:                      y   R-squared:                       0.000\n",
      "Model:                            OLS   Adj. R-squared:                 -0.001\n",
      "Method:                 Least Squares   F-statistic:                    0.1576\n",
      "Date:                Wed, 30 Jun 2021   Prob (F-statistic):              0.691\n",
      "Time:                        23:59:00   Log-Likelihood:                 2603.5\n",
      "No. Observations:                 824   AIC:                            -5203.\n",
      "Df Residuals:                     822   BIC:                            -5194.\n",
      "Df Model:                           1                                         \n",
      "Covariance Type:            nonrobust                                         \n",
      "==============================================================================\n",
      "                 coef    std err          t      P>|t|      [0.025      0.975]\n",
      "------------------------------------------------------------------------------\n",
      "const          0.0005      0.000      1.306      0.192      -0.000       0.001\n",
      "x1             0.0030      0.008      0.397      0.691      -0.012       0.018\n",
      "==============================================================================\n",
      "Omnibus:                       54.022   Durbin-Watson:                   1.961\n",
      "Prob(Omnibus):                  0.000   Jarque-Bera (JB):              139.858\n",
      "Skew:                          -0.331   Prob(JB):                     4.27e-31\n",
      "Kurtosis:                       4.906   Cond. No.                         21.4\n",
      "==============================================================================\n",
      "\n",
      "Warnings:\n",
      "[1] Standard Errors assume that the covariance matrix of the errors is correctly specified.\n"
     ]
    }
   ],
   "source": [
    "ret = finalCleanedData.pct_change()\n",
    "ret.dropna(inplace=True)\n",
    "retTrain, retTest = trainTestSplit(ret, 0.8)\n",
    "retFittedModelSignal = runLinearRegressionSM(retTrain, xCol, yCol)\n",
    "print(retFittedModelSignal.summary())\n",
    "# The stats (e.g., p-value>0.05) show that the 'signal' cannot predict the ETF change/returns. \n",
    "# with the in-sample result totally statistically insignificant, there is no point to look at the stats for the test period. "
   ]
  },
  {
   "cell_type": "code",
   "execution_count": 522,
   "metadata": {},
   "outputs": [
    {
     "name": "stdout",
     "output_type": "stream",
     "text": [
      "                            OLS Regression Results                            \n",
      "==============================================================================\n",
      "Dep. Variable:                      y   R-squared:                       0.000\n",
      "Model:                            OLS   Adj. R-squared:                 -0.001\n",
      "Method:                 Least Squares   F-statistic:                 0.0004122\n",
      "Date:                Wed, 30 Jun 2021   Prob (F-statistic):              0.984\n",
      "Time:                        23:59:00   Log-Likelihood:                 3257.0\n",
      "No. Observations:                1030   AIC:                            -6510.\n",
      "Df Residuals:                    1028   BIC:                            -6500.\n",
      "Df Model:                           1                                         \n",
      "Covariance Type:            nonrobust                                         \n",
      "==============================================================================\n",
      "                 coef    std err          t      P>|t|      [0.025      0.975]\n",
      "------------------------------------------------------------------------------\n",
      "const          0.0005      0.000      1.420      0.156      -0.000       0.001\n",
      "x1             0.0006      0.031      0.020      0.984      -0.061       0.062\n",
      "==============================================================================\n",
      "Omnibus:                       67.096   Durbin-Watson:                   2.000\n",
      "Prob(Omnibus):                  0.000   Jarque-Bera (JB):              159.790\n",
      "Skew:                          -0.368   Prob(JB):                     2.00e-35\n",
      "Kurtosis:                       4.783   Cond. No.                         97.6\n",
      "==============================================================================\n",
      "\n",
      "Warnings:\n",
      "[1] Standard Errors assume that the covariance matrix of the errors is correctly specified.\n"
     ]
    }
   ],
   "source": [
    "retWithLag1 = dataWithLag1.pct_change()\n",
    "retWithLag1.dropna(inplace=True)\n",
    "retWithLag1Train, retWithLag1Test = trainTestSplit(retWithLag1, 0.8)\n",
    "retFittedModelAR1 = runLinearRegressionSM(retWithLag1, newXCol, yCol)\n",
    "print(retFittedModelAR1.summary())\n",
    "# similarly, the AR(1) model for the return time series is also statistically insignificant, i.e., no explaining power (hence cannot \n",
    "# be used to predict either).This result also conforms with our previous acf & pacf plots for the return time series."
   ]
  },
  {
   "cell_type": "code",
   "execution_count": 523,
   "metadata": {},
   "outputs": [
    {
     "name": "stdout",
     "output_type": "stream",
     "text": [
      "[[-0.01319642]\n",
      " [ 0.04995454]\n",
      " [-0.07167997]\n",
      " [ 0.02549375]\n",
      " [-0.03194509]\n",
      " [ 0.07236893]\n",
      " [ 0.00348141]\n",
      " [ 0.09555327]\n",
      " [-0.05267581]\n",
      " [-0.09577444]]\n",
      "Counter({6: 143, 0: 116, 3: 113, 4: 106, 1: 97, 8: 72, 5: 62, 2: 59, 7: 36, 9: 20})\n"
     ]
    }
   ],
   "source": [
    "# Even though we didn't find any predictive power for the next day's stock returns, that may not be the end of the story as we\n",
    "# may not just trade 1 day, our trading horizon might change and our trading frequency doesn't have to be every day either. \n",
    "# the new question is whether some 'signals' at some special circumstances may have some predictive power hence can be used as trading\n",
    "# signal for long or short or other relevant purposes?\n",
    "# First consider the special circumstances when the 'Signal' moves more drastically. We can achieve this with the help of clustering. \n",
    "from sklearn.cluster import KMeans\n",
    "import collections\n",
    "kmeans = KMeans(n_clusters=10, random_state=0).fit(np.array(retTrain['Signal']).reshape(-1,1))\n",
    "# print(kmeans.labels_)\n",
    "print(kmeans.cluster_centers_)\n",
    "print(collections.Counter(kmeans.labels_))\n",
    "# From the cluster center values below, we can see that the no. 8 cluster has the lowest return. Anyways, I will run regression for each\n",
    "# of those clusters to see whether any of them can have some predictive power. "
   ]
  },
  {
   "cell_type": "code",
   "execution_count": 524,
   "metadata": {},
   "outputs": [
    {
     "data": {
      "text/plain": [
       "[0.0006706092431680856,\n",
       " 0.0011406317477995476,\n",
       " 0.04003495995492712,\n",
       " 0.001948297180982439,\n",
       " 0.012384097099497615,\n",
       " 0.015569634046782575,\n",
       " 0.0005100593796891761,\n",
       " 0.05761705684941332,\n",
       " 0.012797284705779122,\n",
       " 0.20125100067388113]"
      ]
     },
     "execution_count": 524,
     "metadata": {},
     "output_type": "execute_result"
    }
   ],
   "source": [
    "def singleClusterRegression(retTrain, kmeans, label, xCol, yCol, regressionLib = 'SM'):\n",
    "    clusterDates = retTrain.index[kmeans.labels_==label]\n",
    "    clusterData = retTrain.loc[clusterDates, :]\n",
    "    if regressionLib == 'SM':\n",
    "        clusterFittedModel = runLinearRegressionSM(clusterData, xCol, yCol)\n",
    "        return clusterFittedModel, None\n",
    "    elif regressionLib == 'SKL':\n",
    "        clusterFittedModel, r2Score = runLinearRegressionSKL(clusterData, xCol, yCol)\n",
    "        return clusterFittedModel, r2Score\n",
    "    \n",
    "def runRegressionForEachCluster(retTrain, kmeans, xCol, yCol):\n",
    "    uniqueLabels = set(kmeans.labels_)\n",
    "    clusterR2Scores = [None]*len(uniqueLabels)\n",
    "    for label in uniqueLabels:\n",
    "        fittedModelCluster, r2ScoreCluster = singleClusterRegression(retTrain, kmeans, label, xCol, yCol, 'SKL')\n",
    "        clusterR2Scores[label] = r2ScoreCluster\n",
    "    return clusterR2Scores\n",
    "# Run regression for each cluster data points and output the R2. The no. 7 cluster with 0.2 R2 stands out.\n",
    "clusterR2Scores = runRegressionForEachCluster(retTrain, kmeans, xCol, yCol)\n",
    "clusterR2Scores"
   ]
  },
  {
   "cell_type": "code",
   "execution_count": 525,
   "metadata": {},
   "outputs": [
    {
     "name": "stdout",
     "output_type": "stream",
     "text": [
      "                            OLS Regression Results                            \n",
      "==============================================================================\n",
      "Dep. Variable:                      y   R-squared:                       0.201\n",
      "Model:                            OLS   Adj. R-squared:                  0.157\n",
      "Method:                 Least Squares   F-statistic:                     4.535\n",
      "Date:                Wed, 30 Jun 2021   Prob (F-statistic):             0.0473\n",
      "Time:                        23:59:00   Log-Likelihood:                 57.567\n",
      "No. Observations:                  20   AIC:                            -111.1\n",
      "Df Residuals:                      18   BIC:                            -109.1\n",
      "Df Model:                           1                                         \n",
      "Covariance Type:            nonrobust                                         \n",
      "==============================================================================\n",
      "                 coef    std err          t      P>|t|      [0.025      0.975]\n",
      "------------------------------------------------------------------------------\n",
      "const          0.0816      0.040      2.040      0.056      -0.002       0.166\n",
      "x1             0.8862      0.416      2.130      0.047       0.012       1.760\n",
      "==============================================================================\n",
      "Omnibus:                        9.895   Durbin-Watson:                   1.681\n",
      "Prob(Omnibus):                  0.007   Jarque-Bera (JB):                7.224\n",
      "Skew:                          -1.263   Prob(JB):                       0.0270\n",
      "Kurtosis:                       4.512   Cond. No.                         131.\n",
      "==============================================================================\n",
      "\n",
      "Warnings:\n",
      "[1] Standard Errors assume that the covariance matrix of the errors is correctly specified.\n"
     ]
    }
   ],
   "source": [
    "# From the above R2 scores, it seems cluster 9 has the best explaining power. Perform some detailed analysis here. \n",
    "# First take a look at the IS regression results: it is encouraging to see that it is statistically significant. \n",
    "clusterFitted,_ = singleClusterRegression(retTrain, kmeans, 9, xCol, yCol, regressionLib = 'SM')\n",
    "print(clusterFitted.summary())"
   ]
  },
  {
   "cell_type": "code",
   "execution_count": 526,
   "metadata": {},
   "outputs": [],
   "source": [
    "# Perform in sample and out of sample MSE and R2 computation for given cluster with clusterIndex. \n",
    "def getClusterMSEAndR2(trainData, testData, kmeans, clusterIndex, xCol, yCol, outOfSampleFlag='True', DEBUG=False):\n",
    "    clusterFittedSKL,_ = singleClusterRegression(trainData, kmeans, clusterIndex, xCol, yCol, regressionLib = 'SKL')\n",
    "\n",
    "    clusterDates = trainData.index[kmeans.labels_==clusterIndex]\n",
    "    clusterTrainData = trainData.loc[clusterDates, :]\n",
    "    \n",
    "    clusterMaxRet = np.max(trainData.loc[trainData.index[kmeans.labels_==clusterIndex],['Signal']]).squeeze()\n",
    "    clusterMinRet = np.min(trainData.loc[trainData.index[kmeans.labels_==clusterIndex],['Signal']]).squeeze()\n",
    "    retTestSpecialCluster = retTest.loc[retTest['Signal']<=clusterMaxRet,:]\n",
    "    retTestSpecialCluster = retTestSpecialCluster.loc[retTest['Signal']>=clusterMinRet,:]\n",
    "    \n",
    "    if outOfSampleFlag:\n",
    "        mseCluster, r2Cluster = MSEAndR2InTest(clusterFittedSKL, retTestSpecialCluster, xCol, yCol, DEBUG)\n",
    "        print('Root mean squared error out of sample: %.4f'% np.sqrt(mseCluster))\n",
    "        print('Coefficient of determination out of sample: %.4f'% r2Cluster)\n",
    "    else:\n",
    "        mseCluster, r2Cluster = MSEAndR2InTest(clusterFittedSKL, clusterTrainData, xCol, yCol, DEBUG)\n",
    "        print('Root mean squared error in sample: %.4f'% np.sqrt(mseCluster))\n",
    "        print('Coefficient of determination in sample: %.4f'% r2Cluster)\n",
    "        "
   ]
  },
  {
   "cell_type": "code",
   "execution_count": 527,
   "metadata": {},
   "outputs": [
    {
     "name": "stdout",
     "output_type": "stream",
     "text": [
      "In sample results:\n",
      "Root mean squared error in sample: 0.0136\n",
      "Coefficient of determination in sample: 0.2013\n",
      "Out of sample results:\n",
      "Root mean squared error out of sample: 0.0171\n",
      "Coefficient of determination out of sample: -0.1983\n"
     ]
    }
   ],
   "source": [
    "print('In sample results:')\n",
    "getClusterMSEAndR2(retTrain, retTest, kmeans, 9, xCol, yCol, False, False)\n",
    "print('Out of sample results:')\n",
    "getClusterMSEAndR2(retTrain, retTest, kmeans, 9, xCol, yCol, True, False)\n",
    "# The out of sample (OOS) testing period doesn't seem to have equally good results as IS. Maybe we can improve the IS fitting a bit to\n",
    "# get a better OOS results?"
   ]
  },
  {
   "cell_type": "code",
   "execution_count": 528,
   "metadata": {},
   "outputs": [
    {
     "name": "stdout",
     "output_type": "stream",
     "text": [
      "(20, 6)\n",
      "Cluster Max and Min returns: -0.08638703110369861, -0.11082098075067948. \n",
      "(2, 6)\n",
      "RMSE and R2 for both IS and OOS:\n",
      "0.011820824402059081 0.39702304503329877\n",
      "0.013879747245477931 0.20790388676180838\n"
     ]
    }
   ],
   "source": [
    "# Try a different type of regressor, say decision tree. \n",
    "from sklearn.tree import DecisionTreeRegressor\n",
    "\n",
    "clusterIndex = 9\n",
    "treeReg = DecisionTreeRegressor(min_samples_leaf=5)\n",
    "clusterDates = retTrain.index[kmeans.labels_==clusterIndex]\n",
    "clusterTrainData = retTrain.loc[clusterDates, :]\n",
    "print(clusterTrainData.shape)\n",
    "\n",
    "treeReg.fit(np.array(clusterTrainData[xCol]).reshape(-1,1), np.array(clusterTrainData[yCol]))\n",
    "\n",
    "clusterMaxRet = np.max(retTrain.loc[retTrain.index[kmeans.labels_==clusterIndex],['Signal']]).squeeze()\n",
    "clusterMinRet = np.min(retTrain.loc[retTrain.index[kmeans.labels_==clusterIndex],['Signal']]).squeeze()\n",
    "print('Cluster Max and Min returns: {}, {}. '.format(clusterMaxRet, clusterMinRet))\n",
    "\n",
    "retTestSpecialCluster = retTest.loc[retTest['Signal']<=clusterMaxRet,:]\n",
    "retTestSpecialCluster = retTestSpecialCluster.loc[retTest['Signal']>=clusterMinRet,:]\n",
    "print(retTestSpecialCluster.shape)\n",
    "\n",
    "mseISTree, R2ISTree = MSEAndR2InTest(treeReg, clusterTrainData, xCol, yCol)\n",
    "mseOOSTree, R2OOSTree = MSEAndR2InTest(treeReg, retTestSpecialCluster, xCol, yCol)\n",
    "\n",
    "print('RMSE and R2 for both IS and OOS:')\n",
    "print(np.sqrt(mseISTree), R2ISTree)\n",
    "print(np.sqrt(mseOOSTree), R2OOSTree)\n",
    "\n",
    "# the result seems promising with possitive R2 both IS and OOS. However, since there is only 2 data points in the OOS period, it is of\n",
    "# no statistical significance here. We need to include more data points to test this idea. \n"
   ]
  },
  {
   "cell_type": "code",
   "execution_count": 529,
   "metadata": {},
   "outputs": [
    {
     "name": "stdout",
     "output_type": "stream",
     "text": [
      "-0.0734205090517953\n",
      "(46, 6)\n",
      "(4, 6)\n",
      "0.009294961432675965 0.418544122441989\n",
      "0.009876446511480933 0.41286076594567056\n",
      "[-0.00492634  0.00577177  0.00044236 -0.00443852]\n",
      "[-0.00828792  0.01910866 -0.01208186 -0.0110829 ]\n"
     ]
    }
   ],
   "source": [
    "# Clustering gives some insight that when the singal moves down big, there can be some predictive power there. \n",
    "# And we can use various ways to pick up those regimes. Clustering is one way. Another way is to simply use z-score. \n",
    "zscoreTrain = zscore(retTrain[xCol])\n",
    "retTrainMean = np.mean(retTrain[xCol]).squeeze()\n",
    "retTrainStd = np.std(retTrain[xCol]).squeeze()\n",
    "\n",
    "# let's say pick up zscore<-1.6 as the 'big-down' regime.\n",
    "# This threshold is ajustable: I want to include more data points in the IS and OOS period without losing the characteristics of \n",
    "# 'big-down' uncovered by the above clustering algorithm. \n",
    "# -1.6 offers a good trade-off here: it translates to return less than -7%, which is not far from the threshold found by clustering.\n",
    "zscoreThreshold = -1.6\n",
    "print(retTrainMean + zscoreThreshold*retTrainStd)\n",
    "retTrainBigDown = retTrain.loc[(zscoreTrain<zscoreThreshold).squeeze(),:]\n",
    "print(retTrainBigDown.shape)\n",
    "\n",
    "# There is an ajustable hyper-parameter for the decision tree regressor: min number of samples per leaf node. \n",
    "# It is a trade off: low number will get better in-sample performance however may be at risk of overfitting. \n",
    "# I tried several numbers from 1-10, it seems 4 gives fairly balanced results for both IS and OOS periods. \n",
    "treeRegBigDown = DecisionTreeRegressor(min_samples_leaf=4)\n",
    "treeRegBigDown.fit(np.array(retTrainBigDown[xCol]).reshape(-1,1), np.array(retTrainBigDown[yCol]))\n",
    "\n",
    "zscoreTest = zscore(retTest[xCol], retTrainMean, retTrainStd)\n",
    "retTestBigDown = retTest.loc[(zscoreTest<zscoreThreshold).squeeze(),:]\n",
    "print(retTestBigDown.shape)\n",
    "\n",
    "mseISBigDownTree, R2ISBigDownTree = MSEAndR2InTest(treeRegBigDown, retTrainBigDown, xCol, yCol)\n",
    "mseOOSBigDownTree, R2OOSBigDownTree = MSEAndR2InTest(treeRegBigDown, retTestBigDown, xCol, yCol)\n",
    "\n",
    "print(np.sqrt(mseISBigDownTree), R2ISBigDownTree)\n",
    "print(np.sqrt(mseOOSBigDownTree), R2OOSBigDownTree)\n",
    "\n",
    "print(treeRegBigDown.predict(np.array(retTestBigDown[xCol]).reshape(-1,1)))\n",
    "print(np.array(retTestBigDown[yCol]).squeeze())"
   ]
  },
  {
   "cell_type": "code",
   "execution_count": 530,
   "metadata": {},
   "outputs": [
    {
     "name": "stdout",
     "output_type": "stream",
     "text": [
      "                            OLS Regression Results                            \n",
      "==============================================================================\n",
      "Dep. Variable:                      y   R-squared:                       0.001\n",
      "Model:                            OLS   Adj. R-squared:                 -0.021\n",
      "Method:                 Least Squares   F-statistic:                   0.06362\n",
      "Date:                Wed, 30 Jun 2021   Prob (F-statistic):              0.802\n",
      "Time:                        23:59:00   Log-Likelihood:                 137.49\n",
      "No. Observations:                  46   AIC:                            -271.0\n",
      "Df Residuals:                      44   BIC:                            -267.3\n",
      "Df Model:                           1                                         \n",
      "Covariance Type:            nonrobust                                         \n",
      "==============================================================================\n",
      "                 coef    std err          t      P>|t|      [0.025      0.975]\n",
      "------------------------------------------------------------------------------\n",
      "const         -0.0005      0.002     -0.270      0.788      -0.004       0.003\n",
      "x1             0.0448      0.178      0.252      0.802      -0.313       0.403\n",
      "==============================================================================\n",
      "Omnibus:                       16.727   Durbin-Watson:                   1.887\n",
      "Prob(Omnibus):                  0.000   Jarque-Bera (JB):               20.539\n",
      "Skew:                          -1.274   Prob(JB):                     3.47e-05\n",
      "Kurtosis:                       5.054   Cond. No.                         96.8\n",
      "==============================================================================\n",
      "\n",
      "Warnings:\n",
      "[1] Standard Errors assume that the covariance matrix of the errors is correctly specified.\n"
     ]
    }
   ],
   "source": [
    "# Try comparative AR(1) model in the 'big-down' case to see if it is significant in at least in-sample training period. \n",
    "# From the results, we can see that the AR(1) model for the 'big-down' period selected by signal does not have any explaining power. \n",
    "# This comparative study shows that the 'singal' may have some predictive power for this specific regime. \n",
    "zscoreTrainLag1 = zscore(retWithLag1Train[xCol])\n",
    "retWithLag1BigDown = retWithLag1Train.loc[(zscoreTrainLag1<zscoreThreshold).squeeze(),:]\n",
    "retWithLag1BigDownFittedModel = runLinearRegressionSM(retWithLag1BigDown, newXCol, yCol)\n",
    "print(retWithLag1BigDownFittedModel.summary())"
   ]
  },
  {
   "cell_type": "code",
   "execution_count": null,
   "metadata": {},
   "outputs": [],
   "source": []
  }
 ],
 "metadata": {
  "kernelspec": {
   "display_name": "Python 3",
   "language": "python",
   "name": "python3"
  },
  "language_info": {
   "codemirror_mode": {
    "name": "ipython",
    "version": 3
   },
   "file_extension": ".py",
   "mimetype": "text/x-python",
   "name": "python",
   "nbconvert_exporter": "python",
   "pygments_lexer": "ipython3",
   "version": "3.7.6"
  }
 },
 "nbformat": 4,
 "nbformat_minor": 4
}
